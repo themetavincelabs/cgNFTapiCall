{
 "cells": [
  {
   "cell_type": "code",
   "execution_count": 2,
   "id": "3ea84985",
   "metadata": {},
   "outputs": [
    {
     "name": "stdout",
     "output_type": "stream",
     "text": [
      "Data has been successfully saved to 'nfts_list.csv'\n"
     ]
    }
   ],
   "source": [
    "#import libraries\n",
    "import requests\n",
    "import csv\n",
    "\n",
    "#define a functoin that sends a GET request to the CoinGecko API to retrieve the list of NFTs\n",
    "#If successful, it returns the JSON response\n",
    "#NOTE: the URL link might change over time, so double deck the GC docs\n",
    "#https://www.coingecko.com/en/api/documentation, scroll to NFTs, list then execute and copy the link\n",
    "def fetch_nfts_list():\n",
    "    url = \"https://api.coingecko.com/api/v3/nfts/list?per_page=100&page=1\"\n",
    "    \n",
    "    try:\n",
    "        response = requests.get(url)\n",
    "        response.raise_for_status()\n",
    "        return response.json()\n",
    "    except requests.exceptions.RequestException as e:\n",
    "        print(\"Error occurred while fetching data:\", e)\n",
    "        return None\n",
    "    \n",
    "#function takes the JSON response containing the NFT data and writes it to a CSV file\n",
    "#Each row in the CSV contains the \"name,\" \"symbol,\" and \"id\" of the NFT\n",
    "def save_nfts_to_csv(nfts_data):\n",
    "    if not nfts_data:\n",
    "        return\n",
    "    \n",
    "    csv_filename = \"nfts_list.csv\"\n",
    "    \n",
    "    try:\n",
    "        with open(csv_filename, mode=\"w\", newline=\"\", encoding=\"utf-8\") as csv_file:\n",
    "            fieldnames = [\"name\", \"symbol\", \"id\"]\n",
    "            writer = csv.DictWriter(csv_file, fieldnames=fieldnames)\n",
    "            writer.writeheader()\n",
    "            \n",
    "            for nft in nfts_data:\n",
    "                writer.writerow({\n",
    "                    \"name\": nft[\"name\"],\n",
    "                    \"symbol\": nft[\"symbol\"],\n",
    "                    \"id\": nft[\"id\"]\n",
    "                })\n",
    "                \n",
    "        print(f\"Data has been successfully saved to '{csv_filename}'\")\n",
    "    except IOError as e:\n",
    "        print(\"Error occurred while saving data to CSV:\", e)\n",
    "        \n",
    "# block executes the functions to fetch the NFTs and save them to a CSV file\n",
    "if __name__ == \"__main__\":\n",
    "    nfts_list = fetch_nfts_list()\n",
    "    save_nfts_to_csv(nfts_list)\n",
    "    \n",
    "#file is saved to the development folder on my desktop"
   ]
  },
  {
   "cell_type": "code",
   "execution_count": null,
   "id": "4a91c3ed",
   "metadata": {},
   "outputs": [],
   "source": []
  }
 ],
 "metadata": {
  "kernelspec": {
   "display_name": "Python 3 (ipykernel)",
   "language": "python",
   "name": "python3"
  },
  "language_info": {
   "codemirror_mode": {
    "name": "ipython",
    "version": 3
   },
   "file_extension": ".py",
   "mimetype": "text/x-python",
   "name": "python",
   "nbconvert_exporter": "python",
   "pygments_lexer": "ipython3",
   "version": "3.9.13"
  }
 },
 "nbformat": 4,
 "nbformat_minor": 5
}
